{
 "cells": [
  {
   "cell_type": "code",
   "execution_count": 12,
   "metadata": {},
   "outputs": [],
   "source": [
    "import pandas as pd\n"
   ]
  },
  {
   "cell_type": "code",
   "execution_count": 13,
   "metadata": {},
   "outputs": [
    {
     "name": "stderr",
     "output_type": "stream",
     "text": [
      "C:\\ProgramData\\Anaconda3\\lib\\site-packages\\IPython\\core\\interactiveshell.py:3444: DtypeWarning: Columns (5) have mixed types.Specify dtype option on import or set low_memory=False.\n",
      "  exec(code_obj, self.user_global_ns, self.user_ns)\n"
     ]
    }
   ],
   "source": [
    "df = pd.read_csv('smoothened_total_forecast_ML150222.dat', sep = '|')\n"
   ]
  },
  {
   "cell_type": "code",
   "execution_count": 15,
   "metadata": {},
   "outputs": [
    {
     "data": {
      "text/html": [
       "<div>\n",
       "<style scoped>\n",
       "    .dataframe tbody tr th:only-of-type {\n",
       "        vertical-align: middle;\n",
       "    }\n",
       "\n",
       "    .dataframe tbody tr th {\n",
       "        vertical-align: top;\n",
       "    }\n",
       "\n",
       "    .dataframe thead th {\n",
       "        text-align: right;\n",
       "    }\n",
       "</style>\n",
       "<table border=\"1\" class=\"dataframe\">\n",
       "  <thead>\n",
       "    <tr style=\"text-align: right;\">\n",
       "      <th></th>\n",
       "      <th>CUST_ID_NR_CD</th>\n",
       "      <th>IND_ACCT_NR_CD</th>\n",
       "      <th>PROMO_PLN_ID_NR_CD</th>\n",
       "      <th>PROMO_PLN_YR_CD</th>\n",
       "      <th>BRND_NR_CD</th>\n",
       "      <th>CS_UPC_NR_CD</th>\n",
       "      <th>CS_UPC_VRSN_NR_CD</th>\n",
       "      <th>WEEK_NR</th>\n",
       "      <th>SOURCE_CD</th>\n",
       "      <th>SUPPLEMENTAL_VOLUME_NR</th>\n",
       "      <th>CAT_NR_CD</th>\n",
       "      <th>FMLY_NR_CD</th>\n",
       "      <th>ACCT_PLAN_ID</th>\n",
       "      <th>DATE_LAST_UPDATED</th>\n",
       "      <th>DEL_IND</th>\n",
       "      <th>NSV_AMT</th>\n",
       "      <th>Unnamed: 16</th>\n",
       "    </tr>\n",
       "  </thead>\n",
       "  <tbody>\n",
       "    <tr>\n",
       "      <th>30987</th>\n",
       "      <td>462</td>\n",
       "      <td>0</td>\n",
       "      <td>NaN</td>\n",
       "      <td>2022</td>\n",
       "      <td>NaN</td>\n",
       "      <td>076430223303</td>\n",
       "      <td>NaN</td>\n",
       "      <td>6</td>\n",
       "      <td>NaN</td>\n",
       "      <td>11.376171</td>\n",
       "      <td>NaN</td>\n",
       "      <td>NaN</td>\n",
       "      <td>NaN</td>\n",
       "      <td>NaN</td>\n",
       "      <td>NaN</td>\n",
       "      <td>NaN</td>\n",
       "      <td>NaN</td>\n",
       "    </tr>\n",
       "    <tr>\n",
       "      <th>30988</th>\n",
       "      <td>462</td>\n",
       "      <td>0</td>\n",
       "      <td>NaN</td>\n",
       "      <td>2022</td>\n",
       "      <td>NaN</td>\n",
       "      <td>076430223303</td>\n",
       "      <td>NaN</td>\n",
       "      <td>7</td>\n",
       "      <td>NaN</td>\n",
       "      <td>11.916786</td>\n",
       "      <td>NaN</td>\n",
       "      <td>NaN</td>\n",
       "      <td>NaN</td>\n",
       "      <td>NaN</td>\n",
       "      <td>NaN</td>\n",
       "      <td>NaN</td>\n",
       "      <td>NaN</td>\n",
       "    </tr>\n",
       "    <tr>\n",
       "      <th>30989</th>\n",
       "      <td>462</td>\n",
       "      <td>0</td>\n",
       "      <td>NaN</td>\n",
       "      <td>2022</td>\n",
       "      <td>NaN</td>\n",
       "      <td>076430223303</td>\n",
       "      <td>NaN</td>\n",
       "      <td>8</td>\n",
       "      <td>NaN</td>\n",
       "      <td>11.642127</td>\n",
       "      <td>NaN</td>\n",
       "      <td>NaN</td>\n",
       "      <td>NaN</td>\n",
       "      <td>NaN</td>\n",
       "      <td>NaN</td>\n",
       "      <td>NaN</td>\n",
       "      <td>NaN</td>\n",
       "    </tr>\n",
       "    <tr>\n",
       "      <th>30990</th>\n",
       "      <td>462</td>\n",
       "      <td>0</td>\n",
       "      <td>NaN</td>\n",
       "      <td>2022</td>\n",
       "      <td>NaN</td>\n",
       "      <td>076430223303</td>\n",
       "      <td>NaN</td>\n",
       "      <td>9</td>\n",
       "      <td>NaN</td>\n",
       "      <td>12.034680</td>\n",
       "      <td>NaN</td>\n",
       "      <td>NaN</td>\n",
       "      <td>NaN</td>\n",
       "      <td>NaN</td>\n",
       "      <td>NaN</td>\n",
       "      <td>NaN</td>\n",
       "      <td>NaN</td>\n",
       "    </tr>\n",
       "    <tr>\n",
       "      <th>30991</th>\n",
       "      <td>462</td>\n",
       "      <td>0</td>\n",
       "      <td>NaN</td>\n",
       "      <td>2022</td>\n",
       "      <td>NaN</td>\n",
       "      <td>076430223303</td>\n",
       "      <td>NaN</td>\n",
       "      <td>10</td>\n",
       "      <td>NaN</td>\n",
       "      <td>12.037306</td>\n",
       "      <td>NaN</td>\n",
       "      <td>NaN</td>\n",
       "      <td>NaN</td>\n",
       "      <td>NaN</td>\n",
       "      <td>NaN</td>\n",
       "      <td>NaN</td>\n",
       "      <td>NaN</td>\n",
       "    </tr>\n",
       "    <tr>\n",
       "      <th>...</th>\n",
       "      <td>...</td>\n",
       "      <td>...</td>\n",
       "      <td>...</td>\n",
       "      <td>...</td>\n",
       "      <td>...</td>\n",
       "      <td>...</td>\n",
       "      <td>...</td>\n",
       "      <td>...</td>\n",
       "      <td>...</td>\n",
       "      <td>...</td>\n",
       "      <td>...</td>\n",
       "      <td>...</td>\n",
       "      <td>...</td>\n",
       "      <td>...</td>\n",
       "      <td>...</td>\n",
       "      <td>...</td>\n",
       "      <td>...</td>\n",
       "    </tr>\n",
       "    <tr>\n",
       "      <th>6523379</th>\n",
       "      <td>174</td>\n",
       "      <td>0</td>\n",
       "      <td>NaN</td>\n",
       "      <td>2023</td>\n",
       "      <td>NaN</td>\n",
       "      <td>076430223303</td>\n",
       "      <td>NaN</td>\n",
       "      <td>48</td>\n",
       "      <td>NaN</td>\n",
       "      <td>370.379600</td>\n",
       "      <td>NaN</td>\n",
       "      <td>NaN</td>\n",
       "      <td>NaN</td>\n",
       "      <td>NaN</td>\n",
       "      <td>NaN</td>\n",
       "      <td>NaN</td>\n",
       "      <td>NaN</td>\n",
       "    </tr>\n",
       "    <tr>\n",
       "      <th>6523380</th>\n",
       "      <td>174</td>\n",
       "      <td>0</td>\n",
       "      <td>NaN</td>\n",
       "      <td>2023</td>\n",
       "      <td>NaN</td>\n",
       "      <td>076430223303</td>\n",
       "      <td>NaN</td>\n",
       "      <td>49</td>\n",
       "      <td>NaN</td>\n",
       "      <td>346.183720</td>\n",
       "      <td>NaN</td>\n",
       "      <td>NaN</td>\n",
       "      <td>NaN</td>\n",
       "      <td>NaN</td>\n",
       "      <td>NaN</td>\n",
       "      <td>NaN</td>\n",
       "      <td>NaN</td>\n",
       "    </tr>\n",
       "    <tr>\n",
       "      <th>6523381</th>\n",
       "      <td>174</td>\n",
       "      <td>0</td>\n",
       "      <td>NaN</td>\n",
       "      <td>2023</td>\n",
       "      <td>NaN</td>\n",
       "      <td>076430223303</td>\n",
       "      <td>NaN</td>\n",
       "      <td>50</td>\n",
       "      <td>NaN</td>\n",
       "      <td>346.183720</td>\n",
       "      <td>NaN</td>\n",
       "      <td>NaN</td>\n",
       "      <td>NaN</td>\n",
       "      <td>NaN</td>\n",
       "      <td>NaN</td>\n",
       "      <td>NaN</td>\n",
       "      <td>NaN</td>\n",
       "    </tr>\n",
       "    <tr>\n",
       "      <th>6523382</th>\n",
       "      <td>174</td>\n",
       "      <td>0</td>\n",
       "      <td>NaN</td>\n",
       "      <td>2023</td>\n",
       "      <td>NaN</td>\n",
       "      <td>076430223303</td>\n",
       "      <td>NaN</td>\n",
       "      <td>51</td>\n",
       "      <td>NaN</td>\n",
       "      <td>350.632870</td>\n",
       "      <td>NaN</td>\n",
       "      <td>NaN</td>\n",
       "      <td>NaN</td>\n",
       "      <td>NaN</td>\n",
       "      <td>NaN</td>\n",
       "      <td>NaN</td>\n",
       "      <td>NaN</td>\n",
       "    </tr>\n",
       "    <tr>\n",
       "      <th>6523383</th>\n",
       "      <td>174</td>\n",
       "      <td>0</td>\n",
       "      <td>NaN</td>\n",
       "      <td>2023</td>\n",
       "      <td>NaN</td>\n",
       "      <td>076430223303</td>\n",
       "      <td>NaN</td>\n",
       "      <td>52</td>\n",
       "      <td>NaN</td>\n",
       "      <td>350.632870</td>\n",
       "      <td>NaN</td>\n",
       "      <td>NaN</td>\n",
       "      <td>NaN</td>\n",
       "      <td>NaN</td>\n",
       "      <td>NaN</td>\n",
       "      <td>NaN</td>\n",
       "      <td>NaN</td>\n",
       "    </tr>\n",
       "  </tbody>\n",
       "</table>\n",
       "<p>396 rows × 17 columns</p>\n",
       "</div>"
      ],
      "text/plain": [
       "         CUST_ID_NR_CD  IND_ACCT_NR_CD  PROMO_PLN_ID_NR_CD  PROMO_PLN_YR_CD  \\\n",
       "30987              462               0                 NaN             2022   \n",
       "30988              462               0                 NaN             2022   \n",
       "30989              462               0                 NaN             2022   \n",
       "30990              462               0                 NaN             2022   \n",
       "30991              462               0                 NaN             2022   \n",
       "...                ...             ...                 ...              ...   \n",
       "6523379            174               0                 NaN             2023   \n",
       "6523380            174               0                 NaN             2023   \n",
       "6523381            174               0                 NaN             2023   \n",
       "6523382            174               0                 NaN             2023   \n",
       "6523383            174               0                 NaN             2023   \n",
       "\n",
       "         BRND_NR_CD  CS_UPC_NR_CD  CS_UPC_VRSN_NR_CD  WEEK_NR  SOURCE_CD  \\\n",
       "30987           NaN  076430223303                NaN        6        NaN   \n",
       "30988           NaN  076430223303                NaN        7        NaN   \n",
       "30989           NaN  076430223303                NaN        8        NaN   \n",
       "30990           NaN  076430223303                NaN        9        NaN   \n",
       "30991           NaN  076430223303                NaN       10        NaN   \n",
       "...             ...           ...                ...      ...        ...   \n",
       "6523379         NaN  076430223303                NaN       48        NaN   \n",
       "6523380         NaN  076430223303                NaN       49        NaN   \n",
       "6523381         NaN  076430223303                NaN       50        NaN   \n",
       "6523382         NaN  076430223303                NaN       51        NaN   \n",
       "6523383         NaN  076430223303                NaN       52        NaN   \n",
       "\n",
       "         SUPPLEMENTAL_VOLUME_NR  CAT_NR_CD  FMLY_NR_CD  ACCT_PLAN_ID  \\\n",
       "30987                 11.376171        NaN         NaN           NaN   \n",
       "30988                 11.916786        NaN         NaN           NaN   \n",
       "30989                 11.642127        NaN         NaN           NaN   \n",
       "30990                 12.034680        NaN         NaN           NaN   \n",
       "30991                 12.037306        NaN         NaN           NaN   \n",
       "...                         ...        ...         ...           ...   \n",
       "6523379              370.379600        NaN         NaN           NaN   \n",
       "6523380              346.183720        NaN         NaN           NaN   \n",
       "6523381              346.183720        NaN         NaN           NaN   \n",
       "6523382              350.632870        NaN         NaN           NaN   \n",
       "6523383              350.632870        NaN         NaN           NaN   \n",
       "\n",
       "         DATE_LAST_UPDATED  DEL_IND  NSV_AMT  Unnamed: 16  \n",
       "30987                  NaN      NaN      NaN          NaN  \n",
       "30988                  NaN      NaN      NaN          NaN  \n",
       "30989                  NaN      NaN      NaN          NaN  \n",
       "30990                  NaN      NaN      NaN          NaN  \n",
       "30991                  NaN      NaN      NaN          NaN  \n",
       "...                    ...      ...      ...          ...  \n",
       "6523379                NaN      NaN      NaN          NaN  \n",
       "6523380                NaN      NaN      NaN          NaN  \n",
       "6523381                NaN      NaN      NaN          NaN  \n",
       "6523382                NaN      NaN      NaN          NaN  \n",
       "6523383                NaN      NaN      NaN          NaN  \n",
       "\n",
       "[396 rows x 17 columns]"
      ]
     },
     "execution_count": 15,
     "metadata": {},
     "output_type": "execute_result"
    }
   ],
   "source": [
    "df[df.CS_UPC_NR_CD == '076430223303']"
   ]
  },
  {
   "cell_type": "code",
   "execution_count": 10,
   "metadata": {},
   "outputs": [
    {
     "data": {
      "text/plain": [
       "DPCI              object\n",
       "NW1_FINAL_PM     float64\n",
       "NW2_FINAL_PM     float64\n",
       "NW3_FINAL_PM     float64\n",
       "NW4_FINAL_PM     float64\n",
       "NW5_FINAL_PM     float64\n",
       "NW6_FINAL_PM     float64\n",
       "NW7_FINAL_PM     float64\n",
       "NW8_FINAL_PM     float64\n",
       "NW9_FINAL_PM     float64\n",
       "NW10_FINAL_PM    float64\n",
       "NW11_FINAL_PM    float64\n",
       "NW12_FINAL_PM    float64\n",
       "NW13_FINAL_PM    float64\n",
       "dtype: object"
      ]
     },
     "execution_count": 10,
     "metadata": {},
     "output_type": "execute_result"
    }
   ],
   "source": [
    "gg.dtypes"
   ]
  },
  {
   "cell_type": "code",
   "execution_count": 1,
   "metadata": {},
   "outputs": [
    {
     "ename": "NameError",
     "evalue": "name 'df' is not defined",
     "output_type": "error",
     "traceback": [
      "\u001b[1;31m---------------------------------------------------------------------------\u001b[0m",
      "\u001b[1;31mNameError\u001b[0m                                 Traceback (most recent call last)",
      "\u001b[1;32m~\\AppData\\Local\\Temp/ipykernel_12768/4166714923.py\u001b[0m in \u001b[0;36m<module>\u001b[1;34m\u001b[0m\n\u001b[1;32m----> 1\u001b[1;33m \u001b[0mdf\u001b[0m\u001b[1;33m.\u001b[0m\u001b[0mdtypes\u001b[0m\u001b[1;33m\u001b[0m\u001b[1;33m\u001b[0m\u001b[0m\n\u001b[0m",
      "\u001b[1;31mNameError\u001b[0m: name 'df' is not defined"
     ]
    }
   ],
   "source": [
    "df.dtypes\n"
   ]
  },
  {
   "cell_type": "code",
   "execution_count": 35,
   "metadata": {},
   "outputs": [],
   "source": [
    "for i in df.columns[1:]:\n",
    "    df[i] = df[i].str.replace(',','').astype(float)"
   ]
  },
  {
   "cell_type": "code",
   "execution_count": 39,
   "metadata": {},
   "outputs": [],
   "source": [
    "df.to_excel('gghh.xlsx', index=False)\n",
    "    "
   ]
  },
  {
   "cell_type": "code",
   "execution_count": 9,
   "metadata": {},
   "outputs": [
    {
     "data": {
      "text/plain": [
       "2"
      ]
     },
     "execution_count": 9,
     "metadata": {},
     "output_type": "execute_result"
    }
   ],
   "source": [
    "1+1"
   ]
  },
  {
   "cell_type": "code",
   "execution_count": 8,
   "metadata": {},
   "outputs": [
    {
     "ename": "NameError",
     "evalue": "name 'dcd' is not defined",
     "output_type": "error",
     "traceback": [
      "\u001b[1;31m---------------------------------------------------------------------------\u001b[0m",
      "\u001b[1;31mNameError\u001b[0m                                 Traceback (most recent call last)",
      "\u001b[1;32m~\\AppData\\Local\\Temp/ipykernel_12768/3976755484.py\u001b[0m in \u001b[0;36m<module>\u001b[1;34m\u001b[0m\n\u001b[1;32m----> 1\u001b[1;33m \u001b[0mdcd\u001b[0m\u001b[1;33m\u001b[0m\u001b[1;33m\u001b[0m\u001b[0m\n\u001b[0m",
      "\u001b[1;31mNameError\u001b[0m: name 'dcd' is not defined"
     ]
    }
   ],
   "source": [
    "dcd"
   ]
  },
  {
   "cell_type": "code",
   "execution_count": 10,
   "metadata": {},
   "outputs": [
    {
     "ename": "NameError",
     "evalue": "name 'df' is not defined",
     "output_type": "error",
     "traceback": [
      "\u001b[1;31m---------------------------------------------------------------------------\u001b[0m",
      "\u001b[1;31mNameError\u001b[0m                                 Traceback (most recent call last)",
      "\u001b[1;32m~\\AppData\\Local\\Temp/ipykernel_12768/1302875668.py\u001b[0m in \u001b[0;36m<module>\u001b[1;34m\u001b[0m\n\u001b[1;32m----> 1\u001b[1;33m \u001b[0mdf\u001b[0m\u001b[1;33m.\u001b[0m\u001b[0mNW1_FINAL_PM\u001b[0m\u001b[1;33m.\u001b[0m\u001b[0mastype\u001b[0m\u001b[1;33m(\u001b[0m\u001b[0mfloat\u001b[0m\u001b[1;33m)\u001b[0m\u001b[1;33m\u001b[0m\u001b[1;33m\u001b[0m\u001b[0m\n\u001b[0m\u001b[0;32m      2\u001b[0m \u001b[1;33m\u001b[0m\u001b[0m\n\u001b[0;32m      3\u001b[0m \u001b[1;33m\u001b[0m\u001b[0m\n\u001b[0;32m      4\u001b[0m \u001b[1;33m\u001b[0m\u001b[0m\n\u001b[0;32m      5\u001b[0m \u001b[1;33m\u001b[0m\u001b[0m\n",
      "\u001b[1;31mNameError\u001b[0m: name 'df' is not defined"
     ]
    }
   ],
   "source": [
    "df.NW1_FINAL_PM.astype(float)\n",
    "\n",
    "\n",
    "\n",
    "\n",
    "\n",
    "\n",
    "\n"
   ]
  },
  {
   "cell_type": "code",
   "execution_count": 30,
   "metadata": {},
   "outputs": [
    {
     "data": {
      "text/plain": [
       "'rfrfre'"
      ]
     },
     "execution_count": 30,
     "metadata": {},
     "output_type": "execute_result"
    }
   ],
   "source": [
    "'rfrfre'.replace(',', '')\n",
    "\n",
    "\n"
   ]
  }
 ],
 "metadata": {
  "interpreter": {
   "hash": "b3ba2566441a7c06988d0923437866b63cedc61552a5af99d1f4fb67d367b25f"
  },
  "kernelspec": {
   "display_name": "Python 3.9.7 ('base')",
   "language": "python",
   "name": "python3"
  },
  "language_info": {
   "codemirror_mode": {
    "name": "ipython",
    "version": 3
   },
   "file_extension": ".py",
   "mimetype": "text/x-python",
   "name": "python",
   "nbconvert_exporter": "python",
   "pygments_lexer": "ipython3",
   "version": "3.9.7"
  },
  "orig_nbformat": 4
 },
 "nbformat": 4,
 "nbformat_minor": 2
}
